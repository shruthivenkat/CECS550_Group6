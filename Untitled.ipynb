{
 "cells": [
  {
   "cell_type": "code",
   "execution_count": 3,
   "id": "ef3f777a",
   "metadata": {},
   "outputs": [],
   "source": [
    "import pandas as pd\n",
    "import numpy as np\n",
    "import matplotlib.pyplot as plt\n",
    "import seaborn as sns\n",
    "%matplotlib inline\n",
    "\n",
    "df = pd.read_csv('features_1.csv')\n",
    "\n",
    "# df['gender'].unique()"
   ]
  },
  {
   "cell_type": "code",
   "execution_count": 4,
   "id": "4d7d00c3",
   "metadata": {},
   "outputs": [
    {
     "data": {
      "text/plain": [
       "Index(['user_id', 'age_range', 'gender', 'merchant_id', 'label', 'item_id',\n",
       "       'category_id', 'brand_id', 'time_stamp', 'action_type',\n",
       "       'user_gender_female', 'user_gender_male', 'user_gender_unknown',\n",
       "       'user_age_0_18', 'user_age_18_24', 'user_age_25_29', 'user_age_30_34',\n",
       "       'user_age_35_39', 'user_age_40_49', 'user_age_50_', 'user_age_unknown',\n",
       "       'user_active_days', 'user_May_active_days', 'user_June_active_days',\n",
       "       'user_July_active_days', 'user_Aug_active_days',\n",
       "       'user_Sept_active_days', 'user_Oct_active_days', 'user_Nov_active_days',\n",
       "       'user_item_count', 'user_category_count', 'user_brand_count',\n",
       "       'user_Click_Count', 'user_Add_to_cart_count', 'user_purchase_count',\n",
       "       'user_Add_to_favorite_count', 'user_total_action',\n",
       "       'merchant_category_count', 'merchant_brand_count',\n",
       "       'user_seller_category_count', 'user_seller_brand_count',\n",
       "       'user_seller_Click_count', 'user_seller_Add_to_cart_count',\n",
       "       'user_seller_Purchase_count', 'user_seller_Add_to_favorite_count',\n",
       "       'user_seller_May_active_days', 'user_seller_June_active_days',\n",
       "       'user_seller_July_active_days', 'user_seller_aug_active_days',\n",
       "       'user_seller_sept_active_days', 'user_seller_oct_active_days',\n",
       "       'user_seller_nov_active_days', 'user_seller_active_days'],\n",
       "      dtype='object')"
      ]
     },
     "execution_count": 4,
     "metadata": {},
     "output_type": "execute_result"
    }
   ],
   "source": [
    "df.columns"
   ]
  },
  {
   "cell_type": "code",
   "execution_count": 12,
   "id": "65bdd71f",
   "metadata": {},
   "outputs": [
    {
     "data": {
      "text/plain": [
       "array([ 0., nan])"
      ]
     },
     "execution_count": 12,
     "metadata": {},
     "output_type": "execute_result"
    }
   ],
   "source": [
    "df['user_age_0_18']."
   ]
  },
  {
   "cell_type": "code",
   "execution_count": 13,
   "id": "740fe0b8",
   "metadata": {},
   "outputs": [
    {
     "data": {
      "text/plain": [
       "array([ 0.,  1., nan])"
      ]
     },
     "execution_count": 13,
     "metadata": {},
     "output_type": "execute_result"
    }
   ],
   "source": [
    "df['user_age_18_24'].unique()"
   ]
  },
  {
   "cell_type": "code",
   "execution_count": 14,
   "id": "8122e4ff",
   "metadata": {},
   "outputs": [
    {
     "data": {
      "text/plain": [
       "array([ 0.,  1., nan])"
      ]
     },
     "execution_count": 14,
     "metadata": {},
     "output_type": "execute_result"
    }
   ],
   "source": [
    "df['user_age_25_29'].unique()"
   ]
  },
  {
   "cell_type": "code",
   "execution_count": 11,
   "id": "669fb5ce",
   "metadata": {},
   "outputs": [
    {
     "data": {
      "text/plain": [
       "array([ 1,  3, 14,  2,  4,  0,  7,  5,  6, 12,  8, 10,  9, 13, 21, 11, 16,\n",
       "       15, 19])"
      ]
     },
     "execution_count": 11,
     "metadata": {},
     "output_type": "execute_result"
    }
   ],
   "source": [
    "df['user_Click_Count'].unique()"
   ]
  },
  {
   "cell_type": "code",
   "execution_count": null,
   "id": "91aded10",
   "metadata": {},
   "outputs": [],
   "source": []
  }
 ],
 "metadata": {
  "kernelspec": {
   "display_name": "Python 3 (ipykernel)",
   "language": "python",
   "name": "python3"
  },
  "language_info": {
   "codemirror_mode": {
    "name": "ipython",
    "version": 3
   },
   "file_extension": ".py",
   "mimetype": "text/x-python",
   "name": "python",
   "nbconvert_exporter": "python",
   "pygments_lexer": "ipython3",
   "version": "3.9.13"
  }
 },
 "nbformat": 4,
 "nbformat_minor": 5
}
